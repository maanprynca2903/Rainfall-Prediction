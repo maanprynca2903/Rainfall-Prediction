{
  "nbformat": 4,
  "nbformat_minor": 0,
  "metadata": {
    "colab": {
      "provenance": []
    },
    "kernelspec": {
      "name": "python3",
      "display_name": "Python 3"
    },
    "language_info": {
      "name": "python"
    }
  },
  "cells": [
    {
      "cell_type": "markdown",
      "metadata": {
        "id": "omsMHed0V5Tr"
      },
      "source": [
        "Importing the Libraries\n"
      ]
    },
    {
      "cell_type": "code",
      "metadata": {
        "id": "hK2YefXDVffd"
      },
      "source": [
        "import numpy as np\n",
        "import pandas as pd"
      ],
      "execution_count": null,
      "outputs": []
    },
    {
      "cell_type": "markdown",
      "metadata": {
        "id": "dXCL-bTXWObu"
      },
      "source": [
        "Importing the dataset"
      ]
    },
    {
      "cell_type": "code",
      "metadata": {
        "id": "SfwKXPPIWZdX"
      },
      "source": [
        "dataset = pd.read_csv('weather.csv')\n",
        "X = dataset.iloc[:,[2,13]].values\n",
        "Y = dataset.iloc[:,-1].values"
      ],
      "execution_count": null,
      "outputs": []
    },
    {
      "cell_type": "code",
      "metadata": {
        "colab": {
          "base_uri": "https://localhost:8080/"
        },
        "id": "8-ZEQbuoePK_",
        "outputId": "a2861b66-dce2-4387-dc98-6a2474462322"
      },
      "source": [
        "print(X)"
      ],
      "execution_count": null,
      "outputs": [
        {
          "output_type": "stream",
          "name": "stdout",
          "text": [
            "[[22.9 22. ]\n",
            " [25.1 25. ]\n",
            " [25.7 30. ]\n",
            " ...\n",
            " [26.9 24. ]\n",
            " [27.  24. ]\n",
            " [ nan 36. ]]\n"
          ]
        }
      ]
    },
    {
      "cell_type": "code",
      "metadata": {
        "colab": {
          "base_uri": "https://localhost:8080/"
        },
        "id": "rhfO7BuJeb7V",
        "outputId": "f5f6953e-57ed-425c-d8f1-333e16914208"
      },
      "source": [
        "print(Y)"
      ],
      "execution_count": null,
      "outputs": [
        {
          "output_type": "stream",
          "name": "stdout",
          "text": [
            "['No' 'No' 'No' ... 'No' 'No' nan]\n"
          ]
        }
      ]
    },
    {
      "cell_type": "code",
      "metadata": {
        "id": "4OcHsahGejAT"
      },
      "source": [
        "Y = Y.reshape(-1,1)"
      ],
      "execution_count": null,
      "outputs": []
    },
    {
      "cell_type": "code",
      "metadata": {
        "colab": {
          "base_uri": "https://localhost:8080/"
        },
        "id": "sBmn1WyblmAD",
        "outputId": "2d484588-372d-40bb-a6d8-30b87b58eea2"
      },
      "source": [
        "print(Y)"
      ],
      "execution_count": null,
      "outputs": [
        {
          "output_type": "stream",
          "name": "stdout",
          "text": [
            "[['No']\n",
            " ['No']\n",
            " ['No']\n",
            " ...\n",
            " ['No']\n",
            " ['No']\n",
            " [nan]]\n"
          ]
        }
      ]
    },
    {
      "cell_type": "markdown",
      "metadata": {
        "id": "LoQZ7B6veult"
      },
      "source": [
        "Cleaning the data"
      ]
    },
    {
      "cell_type": "code",
      "metadata": {
        "id": "Lcvs_YmMexRl"
      },
      "source": [
        "from sklearn.impute import SimpleImputer\n",
        "imputer = SimpleImputer(missing_values=np.nan,strategy='most_frequent')\n",
        "X = imputer.fit_transform(X)\n",
        "Y = imputer.fit_transform(Y)"
      ],
      "execution_count": null,
      "outputs": []
    },
    {
      "cell_type": "markdown",
      "metadata": {
        "id": "CTGGQC3FiDOQ"
      },
      "source": [
        "Encoding data"
      ]
    },
    {
      "cell_type": "code",
      "metadata": {
        "id": "Gi6uziHmiGVD"
      },
      "source": [
        "from sklearn.preprocessing import LabelEncoder\n",
        "le1 = LabelEncoder()\n",
        "Y[:,-1] = le1.fit_transform(Y[:,-1])"
      ],
      "execution_count": null,
      "outputs": []
    },
    {
      "cell_type": "code",
      "metadata": {
        "colab": {
          "base_uri": "https://localhost:8080/"
        },
        "id": "dpXFyjSLop1B",
        "outputId": "40acd11d-c44f-4773-e7a3-1c965bc29a4d"
      },
      "source": [
        "Y = np.array(Y,dtype=float)\n",
        "print(Y)"
      ],
      "execution_count": null,
      "outputs": [
        {
          "output_type": "stream",
          "name": "stdout",
          "text": [
            "[[0.]\n",
            " [0.]\n",
            " [0.]\n",
            " ...\n",
            " [0.]\n",
            " [0.]\n",
            " [0.]]\n"
          ]
        }
      ]
    },
    {
      "cell_type": "code",
      "metadata": {
        "id": "g98qylnDl8GZ"
      },
      "source": [
        "from sklearn.preprocessing import StandardScaler\n",
        "sc = StandardScaler()\n",
        "X = sc.fit_transform(X)"
      ],
      "execution_count": null,
      "outputs": []
    },
    {
      "cell_type": "code",
      "metadata": {
        "colab": {
          "base_uri": "https://localhost:8080/"
        },
        "id": "qQJ4GuPFl9t6",
        "outputId": "dea29019-d265-4eea-8e18-d6338e241385"
      },
      "source": [
        "print(X)"
      ],
      "execution_count": null,
      "outputs": [
        {
          "output_type": "stream",
          "name": "stdout",
          "text": [
            "[[-0.04135977 -1.44365196]\n",
            " [ 0.26874452 -1.29710515]\n",
            " [ 0.35331842 -1.05286047]\n",
            " ...\n",
            " [ 0.52246622 -1.34595409]\n",
            " [ 0.53656187 -1.34595409]\n",
            " [-0.45013361 -0.75976686]]\n"
          ]
        }
      ]
    },
    {
      "cell_type": "markdown",
      "metadata": {
        "id": "P_F8K6vnke5n"
      },
      "source": [
        "Splitting dataset into training and testing"
      ]
    },
    {
      "cell_type": "code",
      "metadata": {
        "id": "8x9c1buwki-S"
      },
      "source": [
        "from sklearn.model_selection import train_test_split\n",
        "X_train,X_test,Y_train,Y_test = train_test_split(X,Y,test_size=0.2,random_state=0)"
      ],
      "execution_count": null,
      "outputs": []
    },
    {
      "cell_type": "code",
      "metadata": {
        "colab": {
          "base_uri": "https://localhost:8080/"
        },
        "id": "-vC8b0QwktOv",
        "outputId": "708794c7-5fac-47a2-bffc-b6fb1f1a00cf"
      },
      "source": [
        "print(X_train)"
      ],
      "execution_count": null,
      "outputs": [
        {
          "output_type": "stream",
          "name": "stdout",
          "text": [
            "[[ 0.07140543  1.04764379]\n",
            " [ 0.11369237  0.16836293]\n",
            " [-0.14002932 -0.22242856]\n",
            " ...\n",
            " [ 0.93124006  0.119514  ]\n",
            " [-0.16822062 -0.12473068]\n",
            " [-0.91529006 -0.02703281]]\n"
          ]
        }
      ]
    },
    {
      "cell_type": "code",
      "metadata": {
        "colab": {
          "base_uri": "https://localhost:8080/"
        },
        "id": "9rFL1NUBkvzD",
        "outputId": "90fb5581-b690-4f61-f958-573f45cb6282"
      },
      "source": [
        "print(Y_train)"
      ],
      "execution_count": null,
      "outputs": [
        {
          "output_type": "stream",
          "name": "stdout",
          "text": [
            "[[1.]\n",
            " [0.]\n",
            " [0.]\n",
            " ...\n",
            " [0.]\n",
            " [0.]\n",
            " [0.]]\n"
          ]
        }
      ]
    },
    {
      "cell_type": "code",
      "metadata": {
        "colab": {
          "base_uri": "https://localhost:8080/"
        },
        "id": "6nrY3sIC01uB",
        "outputId": "71841c38-82da-4cd7-da93-23d4bb4e3c52"
      },
      "source": [
        "from sklearn.linear_model import LogisticRegression\n",
        "lr = LogisticRegression()\n",
        "lr.fit(X_train, Y_train)"
      ],
      "execution_count": null,
      "outputs": [
        {
          "output_type": "stream",
          "name": "stderr",
          "text": [
            "/usr/local/lib/python3.7/dist-packages/sklearn/utils/validation.py:985: DataConversionWarning: A column-vector y was passed when a 1d array was expected. Please change the shape of y to (n_samples, ), for example using ravel().\n",
            "  y = column_or_1d(y, warn=True)\n"
          ]
        },
        {
          "output_type": "execute_result",
          "data": {
            "text/plain": [
              "LogisticRegression()"
            ]
          },
          "metadata": {},
          "execution_count": 209
        }
      ]
    },
    {
      "cell_type": "code",
      "metadata": {
        "colab": {
          "base_uri": "https://localhost:8080/"
        },
        "id": "G63teyV4utt0",
        "outputId": "a2fe408c-33f6-4a61-e6fc-361e79d11e57"
      },
      "source": [
        "import time\n",
        "start_time = time.time()\n",
        "y_pred = le1.inverse_transform(np.array(lr.predict(X_test),dtype=int))\n",
        "Y_test = le1.inverse_transform(np.array(Y_test,dtype=int))\n",
        "\n",
        "\n"
      ],
      "execution_count": null,
      "outputs": [
        {
          "output_type": "stream",
          "name": "stderr",
          "text": [
            "/usr/local/lib/python3.7/dist-packages/sklearn/preprocessing/_label.py:154: DataConversionWarning: A column-vector y was passed when a 1d array was expected. Please change the shape of y to (n_samples, ), for example using ravel().\n",
            "  y = column_or_1d(y, warn=True)\n"
          ]
        }
      ]
    },
    {
      "cell_type": "code",
      "metadata": {
        "id": "VpD4tVnBvrB1"
      },
      "source": [
        "y_pred = y_pred.reshape(-1,1)\n",
        "Y_test = Y_test.reshape(-1,1)"
      ],
      "execution_count": null,
      "outputs": []
    },
    {
      "cell_type": "code",
      "metadata": {
        "id": "-k0upE6ivvms"
      },
      "source": [
        "df = np.concatenate((Y_test,y_pred),axis=1)\n",
        "dataframe = pd.DataFrame(df,columns=['Actual Result','Predition'])"
      ],
      "execution_count": null,
      "outputs": []
    },
    {
      "cell_type": "code",
      "metadata": {
        "colab": {
          "base_uri": "https://localhost:8080/"
        },
        "id": "roIc-swuv2cP",
        "outputId": "880f1291-7b5d-43c3-c82d-478895cb70f0"
      },
      "source": [
        "print(dataframe)\n",
        "import time\n",
        "end_time = time.time()\n",
        "print(end_time - start_time)"
      ],
      "execution_count": null,
      "outputs": [
        {
          "output_type": "stream",
          "name": "stdout",
          "text": [
            "      Actual Result Predition\n",
            "0               Yes        No\n",
            "1               Yes        No\n",
            "2                No        No\n",
            "3                No       Yes\n",
            "4                No        No\n",
            "...             ...       ...\n",
            "29087            No        No\n",
            "29088            No        No\n",
            "29089           Yes        No\n",
            "29090            No        No\n",
            "29091            No        No\n",
            "\n",
            "[29092 rows x 2 columns]\n",
            "0.05294656753540039\n"
          ]
        }
      ]
    },
    {
      "cell_type": "code",
      "source": [],
      "metadata": {
        "id": "Phbem41GHcug"
      },
      "execution_count": null,
      "outputs": []
    },
    {
      "cell_type": "code",
      "metadata": {
        "colab": {
          "base_uri": "https://localhost:8080/"
        },
        "id": "cjvsgdKUv9kc",
        "outputId": "c4c9bb57-57ad-4321-91ca-bcea2e9b824e"
      },
      "source": [
        "from sklearn.metrics import accuracy_score\n",
        "accuracy_score(Y_test,y_pred)"
      ],
      "execution_count": null,
      "outputs": [
        {
          "output_type": "execute_result",
          "data": {
            "text/plain": [
              "0.8249690636601128"
            ]
          },
          "metadata": {},
          "execution_count": 214
        }
      ]
    },
    {
      "cell_type": "markdown",
      "metadata": {
        "id": "wGOuw0NKk6FL"
      },
      "source": [
        "Training the Model"
      ]
    },
    {
      "cell_type": "code",
      "metadata": {
        "id": "cKIFj11QpQek",
        "colab": {
          "base_uri": "https://localhost:8080/"
        },
        "outputId": "7c2c2ba4-3e41-4fb1-d163-e4d82dc5de6b"
      },
      "source": [
        "print(y_pred)"
      ],
      "execution_count": null,
      "outputs": [
        {
          "output_type": "stream",
          "name": "stdout",
          "text": [
            "[['No']\n",
            " ['No']\n",
            " ['No']\n",
            " ...\n",
            " ['No']\n",
            " ['No']\n",
            " ['No']]\n"
          ]
        }
      ]
    },
    {
      "cell_type": "code",
      "metadata": {
        "id": "8meNiCY1pTJ-",
        "colab": {
          "base_uri": "https://localhost:8080/"
        },
        "outputId": "f35e612e-e9c7-4e9b-a0fd-49a8095e3e6c"
      },
      "source": [
        "print(Y_test)"
      ],
      "execution_count": null,
      "outputs": [
        {
          "output_type": "stream",
          "name": "stdout",
          "text": [
            "[['Yes']\n",
            " ['Yes']\n",
            " ['No']\n",
            " ...\n",
            " ['Yes']\n",
            " ['No']\n",
            " ['No']]\n"
          ]
        }
      ]
    },
    {
      "cell_type": "code",
      "metadata": {
        "id": "8waPcH-mwtoN"
      },
      "source": [
        "X_pred = [[30.1, 27]]"
      ],
      "execution_count": null,
      "outputs": []
    },
    {
      "cell_type": "code",
      "metadata": {
        "id": "6DT-C-1hwVMg"
      },
      "source": [
        "y_pred = le1.inverse_transform(np.array(lr.predict(X_pred),dtype=int))"
      ],
      "execution_count": null,
      "outputs": []
    },
    {
      "cell_type": "code",
      "metadata": {
        "id": "loJBYJI-xNg-"
      },
      "source": [
        "y_pred = y_pred.reshape(-1,1)"
      ],
      "execution_count": null,
      "outputs": []
    },
    {
      "cell_type": "code",
      "metadata": {
        "id": "780bNbSSy26V",
        "colab": {
          "base_uri": "https://localhost:8080/"
        },
        "outputId": "94ac49e5-d25a-4ac0-ad8f-6304f2e25a4c"
      },
      "source": [
        "print(X_pred)"
      ],
      "execution_count": null,
      "outputs": [
        {
          "output_type": "stream",
          "name": "stdout",
          "text": [
            "[[30.1, 27]]\n"
          ]
        }
      ]
    },
    {
      "cell_type": "code",
      "metadata": {
        "id": "FzpcvL6jyX41",
        "colab": {
          "base_uri": "https://localhost:8080/"
        },
        "outputId": "87914197-064d-4892-a8d8-3d7ba51c7cf6"
      },
      "source": [
        "print(y_pred)"
      ],
      "execution_count": null,
      "outputs": [
        {
          "output_type": "stream",
          "name": "stdout",
          "text": [
            "[['Yes']]\n"
          ]
        }
      ]
    },
    {
      "cell_type": "code",
      "metadata": {
        "id": "7CL6po4_1mPK"
      },
      "source": [
        "dataset = pd.read_csv('test.csv')\n",
        "X_pred = dataset.iloc[:,[0,1]].values"
      ],
      "execution_count": null,
      "outputs": []
    },
    {
      "cell_type": "code",
      "metadata": {
        "id": "3H8llypS1osw"
      },
      "source": [
        "y_pred = le1.inverse_transform(np.array(lr.predict(X_pred),dtype=int))"
      ],
      "execution_count": null,
      "outputs": []
    },
    {
      "cell_type": "code",
      "metadata": {
        "id": "B5O1MYxx1tkn"
      },
      "source": [
        "y_pred = y_pred.reshape(-1,1)\n"
      ],
      "execution_count": null,
      "outputs": []
    },
    {
      "cell_type": "code",
      "metadata": {
        "colab": {
          "base_uri": "https://localhost:8080/"
        },
        "id": "Sak4bfmN1xFF",
        "outputId": "e9bdc76e-5827-4644-95c6-d24e9962a715"
      },
      "source": [
        "print(y_pred)"
      ],
      "execution_count": null,
      "outputs": [
        {
          "output_type": "stream",
          "name": "stdout",
          "text": [
            "[['Yes']\n",
            " ['Yes']\n",
            " ['Yes']\n",
            " ['Yes']\n",
            " ['Yes']\n",
            " ['Yes']\n",
            " ['Yes']\n",
            " ['Yes']\n",
            " ['Yes']\n",
            " ['Yes']\n",
            " ['Yes']\n",
            " ['Yes']\n",
            " ['Yes']\n",
            " ['Yes']\n",
            " ['Yes']\n",
            " ['Yes']\n",
            " ['Yes']\n",
            " ['Yes']\n",
            " ['Yes']\n",
            " ['Yes']]\n"
          ]
        }
      ]
    }
  ]
}